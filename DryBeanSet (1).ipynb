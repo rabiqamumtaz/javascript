{
  "nbformat": 4,
  "nbformat_minor": 0,
  "metadata": {
    "colab": {
      "provenance": []
    },
    "kernelspec": {
      "name": "python3",
      "display_name": "Python 3"
    },
    "language_info": {
      "name": "python"
    }
  },
  "cells": [
    {
      "cell_type": "code",
      "source": [
        "from google.colab import drive\n",
        "drive.mount('/content/drive')"
      ],
      "metadata": {
        "colab": {
          "base_uri": "https://localhost:8080/"
        },
        "id": "nQZvUE9Dl0JK",
        "outputId": "d7143339-692b-4ffa-8a2d-f6e22d2845f6"
      },
      "execution_count": null,
      "outputs": [
        {
          "output_type": "stream",
          "name": "stdout",
          "text": [
            "Drive already mounted at /content/drive; to attempt to forcibly remount, call drive.mount(\"/content/drive\", force_remount=True).\n"
          ]
        }
      ]
    },
    {
      "cell_type": "code",
      "source": [
        "from sklearn import preprocessing, svm\n",
        "from sklearn.model_selection import train_test_split\n",
        "from sklearn.neighbors import KNeighborsClassifier\n",
        "from sklearn.naive_bayes import GaussianNB\n",
        "import sklearn.metrics as metrics\n",
        "import pandas as pd\n",
        "import matplotlib.pyplot as plt\n",
        "import numpy as np\n",
        "from sklearn.model_selection import cross_val_score\n"
      ],
      "metadata": {
        "id": "l6T6FN4EmHWG"
      },
      "execution_count": 1,
      "outputs": []
    },
    {
      "cell_type": "code",
      "source": [
        "data = pd.read_excel(\"/content/drive/MyDrive/Dry_Bean_Dataset.xlsx\")\n"
      ],
      "metadata": {
        "id": "QChodykzmMCB"
      },
      "execution_count": 2,
      "outputs": []
    },
    {
      "cell_type": "code",
      "source": [
        "X = data.drop(\"Class\", axis=1)\n",
        "Y = data['Class']"
      ],
      "metadata": {
        "id": "A1d3SuawmVeF"
      },
      "execution_count": 3,
      "outputs": []
    },
    {
      "cell_type": "code",
      "source": [
        "# Convert Class String labels into Integers\n",
        "lab_enc = preprocessing.LabelEncoder()\n",
        "label_Y = lab_enc.fit_transform(Y)\n",
        "\n",
        "# Normalize the input features of the dataset\n",
        "normalizer = preprocessing.StandardScaler()\n",
        "norm_X = normalizer.fit_transform(X)"
      ],
      "metadata": {
        "id": "2SbKVBE-mpdF"
      },
      "execution_count": 4,
      "outputs": []
    },
    {
      "cell_type": "code",
      "source": [
        "# Model: K-Nearest neighbor\n",
        "knn_model = KNeighborsClassifier(n_neighbors = 5)\n",
        "train_x, test_x, train_y, test_y = train_test_split(norm_X, label_Y, test_size=0.2, random_state=12, shuffle=True)\n",
        "knn_model.fit(train_x, train_y)\n",
        "y_pred = knn_model.predict(test_x)\n",
        "model_acc = metrics.accuracy_score(test_y, y_pred)\n",
        "\n",
        "print('Accuracy: %.3f' % (model_acc))\n",
        "\n",
        "scores = cross_val_score(knn_model, test_x, test_y, cv=5)\n",
        "\n",
        "print('Validation: %.3f' % (scores.mean()))\n",
        "\n"
      ],
      "metadata": {
        "colab": {
          "base_uri": "https://localhost:8080/"
        },
        "id": "smMeZdtorVuH",
        "outputId": "fab29837-6f14-41dd-dee6-7452a569d11c"
      },
      "execution_count": 5,
      "outputs": [
        {
          "output_type": "stream",
          "name": "stdout",
          "text": [
            "Accuracy: 0.924\n",
            "Validation: 0.921\n"
          ]
        }
      ]
    },
    {
      "cell_type": "code",
      "source": [
        "# Model: SVM\n",
        "svm_model = svm.SVC(random_state=12)\n",
        "\n",
        "train_x, test_x, train_y, test_y = train_test_split(norm_X, label_Y, test_size=0.2, random_state=12, shuffle=True)\n",
        "svm_model.fit(train_x, train_y)\n",
        "y_pred = svm_model.predict(test_x)\n",
        "model_acc = metrics.accuracy_score(test_y, y_pred)\n",
        "\n",
        "print('Accuracy: %.3f' % (model_acc))\n",
        "\n",
        "scores = cross_val_score(svm_model, test_x, test_y, cv=5)\n",
        "\n",
        "print('Validation: %.3f' % (scores.mean()))"
      ],
      "metadata": {
        "colab": {
          "base_uri": "https://localhost:8080/"
        },
        "id": "olNsxSRhsiCV",
        "outputId": "4c35d971-3036-4594-b5d7-f374ed360500"
      },
      "execution_count": 6,
      "outputs": [
        {
          "output_type": "stream",
          "name": "stdout",
          "text": [
            "Accuracy: 0.935\n",
            "Validation: 0.931\n"
          ]
        }
      ]
    },
    {
      "cell_type": "code",
      "source": [
        "#Model: Naive Bayes\n",
        "naive_bayes_model=GaussianNB()\n",
        "train_x, test_x, train_y, test_y = train_test_split(norm_X, label_Y, test_size=0.2, random_state=12, shuffle=True)\n",
        "naive_bayes_model.fit(train_x, train_y)\n",
        "y_pred = naive_bayes_model.predict(test_x)\n",
        "model_acc = metrics.accuracy_score(test_y, y_pred)\n",
        "\n",
        "print('Accuracy: %.3f' % (model_acc))\n",
        "\n",
        "scores = cross_val_score(naive_bayes_model, test_x, test_y, cv=5)\n",
        "\n",
        "print('Validation: %.3f' % (scores.mean()))\n"
      ],
      "metadata": {
        "colab": {
          "base_uri": "https://localhost:8080/"
        },
        "id": "tvYlRd26u0b3",
        "outputId": "5d04121a-ca4a-43dd-8e28-8f4392dc558f"
      },
      "execution_count": 7,
      "outputs": [
        {
          "output_type": "stream",
          "name": "stdout",
          "text": [
            "Accuracy: 0.893\n",
            "Validation: 0.896\n"
          ]
        }
      ]
    }
  ]
}